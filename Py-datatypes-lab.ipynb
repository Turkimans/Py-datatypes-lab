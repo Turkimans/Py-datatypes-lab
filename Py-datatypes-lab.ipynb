{
 "cells": [
  {
   "cell_type": "code",
   "execution_count": 6,
   "id": "ad63ade9-c5b7-4afb-9a05-f624da77ab70",
   "metadata": {
    "tags": []
   },
   "outputs": [
    {
     "name": "stdout",
     "output_type": "stream",
     "text": [
      "[5, 2, 4, 6]\n"
     ]
    }
   ],
   "source": [
    "new_list = [5,2,4]\n",
    "new_list.append(6)\n",
    "print (new_list)"
   ]
  },
  {
   "cell_type": "code",
   "execution_count": 7,
   "id": "31f52a29-412d-46bd-ba05-10d6f93c9499",
   "metadata": {
    "tags": []
   },
   "outputs": [
    {
     "name": "stdout",
     "output_type": "stream",
     "text": [
      "[5, 2, 4, 6]\n"
     ]
    }
   ],
   "source": [
    "new_list = [5,2,4]\n",
    "new_list.append(6)\n",
    "print (new_list)\n",
    "list.remove(0)"
   ]
  },
  {
   "cell_type": "code",
   "execution_count": 13,
   "id": "f7385eba-cc5a-47d7-bbda-1e70765724b4",
   "metadata": {
    "tags": []
   },
   "outputs": [
    {
     "name": "stdout",
     "output_type": "stream",
     "text": [
      "[5, 2, 6]\n"
     ]
    }
   ],
   "source": [
    "new_list = [5,2,4]\n",
    "new_list.append(6)\n",
    "new_list.remove(4)\n",
    "print (new_list)"
   ]
  },
  {
   "cell_type": "code",
   "execution_count": 15,
   "id": "4d7a2aff-80de-495e-a8c4-7ddf6adc5770",
   "metadata": {
    "tags": []
   },
   "outputs": [
    {
     "name": "stdout",
     "output_type": "stream",
     "text": [
      "[6, 2, 5]\n"
     ]
    }
   ],
   "source": [
    "new_list = [5,2,4]\n",
    "new_list.append(6)\n",
    "new_list.remove(4)\n",
    "new_list.reverse()\n",
    "print (new_list)"
   ]
  },
  {
   "cell_type": "code",
   "execution_count": 18,
   "id": "822867ec-96a3-4190-ab3b-2fc9bc5da4a9",
   "metadata": {
    "tags": []
   },
   "outputs": [
    {
     "name": "stdout",
     "output_type": "stream",
     "text": [
      "[1, 6, 2, 5]\n"
     ]
    }
   ],
   "source": [
    "new_list = [5,2,4]\n",
    "new_list.append(6)\n",
    "new_list.remove(4)\n",
    "new_list.reverse()\n",
    "new_list.insert(0, 1)\n",
    "print (new_list)"
   ]
  },
  {
   "cell_type": "code",
   "execution_count": 20,
   "id": "16acdfaf-d379-4fd6-b898-0c8a9affdbb2",
   "metadata": {
    "tags": []
   },
   "outputs": [
    {
     "name": "stdout",
     "output_type": "stream",
     "text": [
      "Ahmed, Nasser, Mohammed\n"
     ]
    }
   ],
   "source": [
    "people = [\"Ahmed\", \"Nasser\", \"Mohammed\"]\n",
    "pepole_new = \", \".join(people)\n",
    "print(pepole_new)\n"
   ]
  },
  {
   "cell_type": "code",
   "execution_count": 30,
   "id": "77a163a5-6b79-4f6c-a9aa-18410ceddcd6",
   "metadata": {},
   "outputs": [
    {
     "name": "stdout",
     "output_type": "stream",
     "text": [
      "[{'name': 'mohamd', 'phone_number': '96654837262'}, {'name': 'ali', 'phone_number': '96654837262'}, {'name': 'sara', 'phone_number': '96654837262'}, {'name': 'salman', 'phone_number': '5473682938'}]\n"
     ]
    }
   ],
   "source": [
    "dict_list = [dict1, dict2, dict3]\n",
    "dict1 = {\"name\": \"mohamd\", \"phone_number\": \"96654837262\"}\n",
    "dict2 = {\"name\": \"ali\", \"phone_number\": \"96654837262\"}\n",
    "dict3 = {\"name\": \"sara\", \"phone_number\": \"96654837262\"}\n",
    "#####\n",
    "dict4 = {\"name\": \"salman\", \"phone_number\": \"5473682938\"}\n",
    "dict_list.append(dict4)\n",
    "print(dict_list)\n",
    "\n",
    "\n"
   ]
  },
  {
   "cell_type": "code",
   "execution_count": 31,
   "id": "730d38b3-fd88-450b-b149-5873bf176edf",
   "metadata": {
    "tags": []
   },
   "outputs": [
    {
     "name": "stdout",
     "output_type": "stream",
     "text": [
      "[{'name': 'mohamd', 'phone_number': '96654837262'}, {'name': 'ali', 'phone_number': '96654837262'}, {'name': 'sara', 'phone_number': '96654837262'}, {'name': 'salman', 'phone_number': '5473682938'}]\n",
      "[{'name': 'mohamd', 'phone_number': '96654837262'}, {'name': 'ali', 'phone_number': '96654837262'}, {'name': 'sara', 'phone_number': '96654837262'}, {'name': 'salman', 'phone_number': '96654444444'}]\n"
     ]
    }
   ],
   "source": [
    "dict_list = [dict1, dict2, dict3]\n",
    "dict1 = {\"name\": \"mohamd\", \"phone_number\": \"96654837262\"}\n",
    "dict2 = {\"name\": \"ali\", \"phone_number\": \"96654837262\"}\n",
    "dict3 = {\"name\": \"sara\", \"phone_number\": \"96654837262\"}\n",
    "#####\n",
    "dict4 = {\"name\": \"salman\", \"phone_number\": \"5473682938\"}\n",
    "dict_list.append(dict4)\n",
    "print(dict_list)\n",
    "new_phone_number = \"96654444444\"\n",
    "dict_list[-1][\"phone_number\"] = new_phone_number\n",
    "print(dict_list)"
   ]
  },
  {
   "cell_type": "code",
   "execution_count": 33,
   "id": "c598fcec-cdae-4310-b974-29ca146c2f15",
   "metadata": {
    "tags": []
   },
   "outputs": [
    {
     "name": "stdout",
     "output_type": "stream",
     "text": [
      "The dictionary does not have a key called 'name'\n"
     ]
    }
   ],
   "source": [
    "dict_list = [dict1, dict2, dict3]\n",
    "dict1 = {\"name\": \"mohamd\", \"phone_number\": \"96654837262\"}\n",
    "dict2 = {\"name\": \"ali\", \"phone_number\": \"96654837262\"}\n",
    "dict3 = {\"name\": \"sara\", \"phone_number\": \"96654837262\"}\n",
    "#####\n",
    "dict4 = {\"name\": \"salman\", \"phone_number\": \"5473682938\"}\n",
    "dict_list.append(dict4)\n",
    "#print(dict_list)\n",
    "new_phone_number = \"96654444444\"\n",
    "dict_list[-1][\"phone_number\"] = new_phone_number\n",
    "\n",
    "if \"name\" in dict_list:\n",
    "    print(\"The dictionary has a key called 'name'\")\n",
    "else:\n",
    "    print(\"The dictionary does not have a key called 'name'\")\n",
    "\n"
   ]
  },
  {
   "cell_type": "code",
   "execution_count": null,
   "id": "554de0ec-0949-44b4-83ec-f07911178f2d",
   "metadata": {},
   "outputs": [],
   "source": []
  }
 ],
 "metadata": {
  "kernelspec": {
   "display_name": "Python 3 (ipykernel)",
   "language": "python",
   "name": "python3"
  },
  "language_info": {
   "codemirror_mode": {
    "name": "ipython",
    "version": 3
   },
   "file_extension": ".py",
   "mimetype": "text/x-python",
   "name": "python",
   "nbconvert_exporter": "python",
   "pygments_lexer": "ipython3",
   "version": "3.11.4"
  }
 },
 "nbformat": 4,
 "nbformat_minor": 5
}
